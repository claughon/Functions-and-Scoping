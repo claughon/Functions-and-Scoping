{
 "cells": [
  {
   "cell_type": "markdown",
   "metadata": {},
   "source": [
    "# User-Defined Functions & Scoping"
   ]
  },
  {
   "cell_type": "markdown",
   "metadata": {},
   "source": [
    "## Tasks Today:\n",
    "\n",
    "\n",
    "1) Functions <br>\n",
    " &nbsp;&nbsp;&nbsp;&nbsp; a) User-Defined vs. Built-In Functions <br>\n",
    " &nbsp;&nbsp;&nbsp;&nbsp; b) Accepting Parameters <br>\n",
    " &nbsp;&nbsp;&nbsp;&nbsp; c) Default Parameters <br>\n",
    " &nbsp;&nbsp;&nbsp;&nbsp; d) Making an Argument Optional <br>\n",
    " &nbsp;&nbsp;&nbsp;&nbsp; e) Keyword Arguments <br>\n",
    " &nbsp;&nbsp;&nbsp;&nbsp; f) Returning Values <br>\n",
    " &nbsp;&nbsp;&nbsp;&nbsp; g) *args <br>\n",
    " &nbsp;&nbsp;&nbsp;&nbsp; h) Docstring <br>\n",
    " &nbsp;&nbsp;&nbsp;&nbsp; i) Using a User Function in a Loop <br>\n",
    "2) Scope\n",
    "3) Creating more User-Defined functions "
   ]
  },
  {
   "cell_type": "markdown",
   "metadata": {},
   "source": [
    "\n",
    "## Functions"
   ]
  },
  {
   "cell_type": "markdown",
   "metadata": {},
   "source": [
    "##### User-Defined vs. Built-In Functions"
   ]
  },
  {
   "cell_type": "code",
   "execution_count": null,
   "metadata": {},
   "outputs": [],
   "source": [
    "#Built-In function\n",
    "print(\"This is from the built in function...'hello'\")\n",
    "\n",
    "#User-Defined Function\n",
    "def say_hello():\n",
    "    return \"This is from the user defined function...Hello World!\"\n",
    "\n",
    "print(say_hello())"
   ]
  },
  {
   "cell_type": "markdown",
   "metadata": {},
   "source": [
    "##### Accepting Parameters"
   ]
  },
  {
   "cell_type": "code",
   "execution_count": null,
   "metadata": {
    "scrolled": true
   },
   "outputs": [],
   "source": [
    "#oreder matters\n",
    "# a variable can be any type of object\n",
    "\n",
    "\n",
    "def print_full_name(first_name, last_name):\n",
    "    return f\"Hello my last name is {last_name} and my first name is {first_name}\"\n",
    "print(print_full_name(\"Ryan\", \"Rhoades\"))"
   ]
  },
  {
   "cell_type": "markdown",
   "metadata": {},
   "source": [
    "##### Default Parameters"
   ]
  },
  {
   "cell_type": "code",
   "execution_count": null,
   "metadata": {},
   "outputs": [],
   "source": [
    "#Default parameters must come after the non-default parameters...at all times\n",
    "def agent_name(first_name, last_name = \"Bond\"):\n",
    "    return f\"The name is {last_name}...{first_name}, {last_name}.\"\n",
    "print(agent_name(\"James\"))\n",
    "print(\"\\n\")\n",
    "\n",
    "print(agent_name(\"James\", \"and the Giant Peach\"))"
   ]
  },
  {
   "cell_type": "code",
   "execution_count": null,
   "metadata": {},
   "outputs": [],
   "source": [
    "def oct_birthday(day, year, month = \"October\"):\n",
    "    return f\"Your birthday is the {day} day of {month} and you were born in {year}.\"\n",
    "print(oct_birthday(\"27th\", 2022))\n",
    "\n",
    "print(oct_birthday(\"29th\", 2022, \"January\"))"
   ]
  },
  {
   "cell_type": "markdown",
   "metadata": {},
   "source": [
    "##### Making an Argument Optional"
   ]
  },
  {
   "cell_type": "code",
   "execution_count": null,
   "metadata": {},
   "outputs": [],
   "source": [
    "#optional parameters also need to go after regular parameters\n",
    "def print_horse_name(first, middle = \"\", last = \"Ed\"):\n",
    "    return f\"Hello {first} {middle} {last}.\"\n",
    "print(print_horse_name(\"Mr.\"))\n",
    "print(print_horse_name(\"Epona\"))"
   ]
  },
  {
   "cell_type": "markdown",
   "metadata": {},
   "source": [
    "##### Keyword Arguments"
   ]
  },
  {
   "cell_type": "code",
   "execution_count": null,
   "metadata": {},
   "outputs": [],
   "source": [
    "def print_hero(name, power = \"flying\"):\n",
    "    return f\"{name}'s power is {power}.\"\n",
    "print(print_hero(power = \"Money\", name = \"Bruce\"))\n",
    "\n",
    "print(print_hero(\"Super Man\"))"
   ]
  },
  {
   "cell_type": "code",
   "execution_count": null,
   "metadata": {},
   "outputs": [],
   "source": [
    "# Create a function (or more than one) that accepts positional, default, and optional arguments.\n",
    "def best_foods(pho, wings = \"\", fastfood = \"McDonalds\", steak = \"Ruth Chris Steakhouse\"):\n",
    "    return f\"The best resturaunts may not be what you expect {wings}, {fastfood}, {steak} and {pho}!\"\n",
    "print(best_foods(\"Three-Sisters\"))"
   ]
  },
  {
   "cell_type": "markdown",
   "metadata": {},
   "source": [
    "# Creating a start, stop, step function"
   ]
  },
  {
   "cell_type": "code",
   "execution_count": null,
   "metadata": {},
   "outputs": [],
   "source": [
    "#parameters are just place holders for arguments that wer're passing in\n",
    "def my_range(stop, start = 0, step = 1):\n",
    "    for i in range(start, stop, step):\n",
    "        print(i)\n",
    "my_range(15, 1, 2)\n",
    "print(\"\\n\")\n",
    "my_range(20)"
   ]
  },
  {
   "cell_type": "markdown",
   "metadata": {},
   "source": [
    "##### Returning Values"
   ]
  },
  {
   "cell_type": "code",
   "execution_count": null,
   "metadata": {},
   "outputs": [],
   "source": [
    "def add_nums(num1, num2):\n",
    "    return num1 + num2\n",
    "print(add_nums(5,10))\n",
    "\n",
    "more_adding = add_nums(5, 10) + 10\n",
    "print(more_adding)"
   ]
  },
  {
   "cell_type": "markdown",
   "metadata": {},
   "source": [
    "##### *args / **kwargs (keyword arguments)"
   ]
  },
  {
   "cell_type": "code",
   "execution_count": null,
   "metadata": {},
   "outputs": [],
   "source": [
    "#args stands for arguments kwargs stands for keyword arguments\n",
    "#any number of arguments as parameters\n",
    "\n",
    "def print_args(num1, *args, **kwargs):\n",
    "    print(f\"This is my positional argument {num1}\")\n",
    "    print(f\"These are my *args {args}\")\n",
    "    print(f\"These are my *kwargs {kwargs}\")\n",
    "print(print_args(2, 10, \"megazord\", names = [\"Alex\", \"Julia\"], subject = \"python\"))"
   ]
  },
  {
   "cell_type": "code",
   "execution_count": null,
   "metadata": {
    "scrolled": true
   },
   "outputs": [],
   "source": [
    "def print_args(num1, *args, **kwargs):\n",
    "    print(\"These are our args: \")\n",
    "    for arg in args:\n",
    "        print(arg)\n",
    "    print(\"\\n\")\n",
    "    print(\"These are our kwargs: \")    \n",
    "    for key, value in kwargs.items():\n",
    "        print(key, value)\n",
    "    print(\"\\n\")\n",
    "    print(\"This is our positional argument: \")\n",
    "    print(num1)\n",
    "print_args(2, 10, \"megazord\", \"Ryan\", \"Cheetor\", \"Water Bottle\", \"nice late summer breeze\", names = [\"Alex\", \"Julia\"], subject = \"Python\", num2 = 15 )"
   ]
  },
  {
   "cell_type": "code",
   "execution_count": null,
   "metadata": {},
   "outputs": [],
   "source": [
    "#Write a function that takes in positional argument, \n",
    "#at least 3 *args, and at least 2 **kwargs. Loop through them and print each one.\n",
    "\n",
    "def print_args(first_arg, *args, **kwargs):\n",
    "    print(first_arg)\n",
    "    print(\"\\n\")\n",
    "    for arg in args:\n",
    "        print(arg)\n",
    "    print(\"\\n\")\n",
    "    for key, value in kwargs.items():\n",
    "        print(key, value)\n",
    "    print(\"\\n\")\n",
    "print_args(\"cheetah\", \"mountain lion\", 5, 7, 9, \"goldfish\", \"salmon\", \"rainbow trout\", \"bulltrout\", animals = [\"Grizzly Bear\", \"Badger\", \"Moose\"])"
   ]
  },
  {
   "cell_type": "markdown",
   "metadata": {},
   "source": [
    "##### Docstring"
   ]
  },
  {
   "cell_type": "code",
   "execution_count": null,
   "metadata": {},
   "outputs": [],
   "source": [
    "#nice way to provide notes about the utility of the function\n",
    "def print_names(arr):\n",
    "    \"\"\"\n",
    "    print_names(arr)\n",
    "    function requires a list to be passed as a parameter\n",
    "    and will print the contents of the list. Expecting \n",
    "    a list of names(strings) to be passed\n",
    "    \"\"\"\n",
    "    \n",
    "    for name in arr:\n",
    "        print(name)\n",
    "        \n",
    "print_names([\"Lando\", \"Boba Fett\"])\n",
    "    "
   ]
  },
  {
   "cell_type": "markdown",
   "metadata": {},
   "source": [
    "##### Using a User Function in a Loop"
   ]
  },
  {
   "cell_type": "code",
   "execution_count": null,
   "metadata": {},
   "outputs": [],
   "source": [
    "def print_input(answer):\n",
    "    print(f\"Your answer is {answer}\")\n",
    "    \n",
    "def party_time(): \n",
    "    while True:\n",
    "        ask = input(\"What do you want to do? \")\n",
    "        print_input(ask)\n",
    "\n",
    "        response = input(\"Ready to quit? \")\n",
    "        if response.lower() == \"yes\":\n",
    "            break\n",
    "party_time()"
   ]
  },
  {
   "cell_type": "markdown",
   "metadata": {},
   "source": [
    "## Function Exercises <br>\n",
    "### Exercise 1\n",
    "<p>Write a function that loops through a list of first_names and a list of last_names, combines the two and return a list of full_names</p>"
   ]
  },
  {
   "cell_type": "code",
   "execution_count": null,
   "metadata": {},
   "outputs": [],
   "source": [
    "first_name = ['John', 'Evan', 'Jordan', 'Max']\n",
    "last_name = ['Smith', 'Smith', 'Williams', 'Bell']\n",
    "\n",
    "# Output: ['John Smith', 'Evan Smith', 'Jordan Williams', 'Max Bell']\n",
    "#getting full name with helper function\n",
    "#helper function is a function with utitlity that can assist another function's goal\n",
    "def get_full_name(first, last):\n",
    "    \"\"\"Combine first and last name to make a full name\"\"\"\n",
    "    full_name = f\"{first} {last}\"\n",
    "    return full_name.title()\n",
    "\n",
    "def full_names(firsts, lasts):\n",
    "    fulls = []\n",
    "    for i in range(len(firsts)):\n",
    "        whole_name = get_full_name(firsts[i], lasts[i])\n",
    "#         print(whole_name)\n",
    "        fulls.append(whole_name)\n",
    "    return fulls\n",
    "full_names(first_name, last_name)"
   ]
  },
  {
   "cell_type": "code",
   "execution_count": null,
   "metadata": {},
   "outputs": [],
   "source": [
    "#Looping by index and concatenating first and last name\n",
    "def full_name_getter(firsts, lasts):\n",
    "    full_names = []\n",
    "    for i in range(len(firsts)):\n",
    "        full_names.append(firsts[i] + \" \" + lasts[i])\n",
    "    return full_names\n",
    "full_name_getter(first_name, last_name)"
   ]
  },
  {
   "cell_type": "code",
   "execution_count": null,
   "metadata": {},
   "outputs": [],
   "source": [
    "#Looping by index and concatenating first and last name with list comprehension\n",
    "def nice_names(firsts, lasts):\n",
    "    return[firsts[i] + \" \" + lasts[i] for i in range(len(firsts))]\n",
    "nice_names(first_name, last_name)"
   ]
  },
  {
   "cell_type": "markdown",
   "metadata": {},
   "source": [
    "### Exercise 2\n",
    "Create a function that alters all values in the given list by subtracting 5 and then doubling them."
   ]
  },
  {
   "cell_type": "code",
   "execution_count": null,
   "metadata": {},
   "outputs": [],
   "source": [
    "input_list = [5,10,15,20,3]\n",
    "# output = [0,10,20,30,-4]\n",
    "\n",
    "def number_manipulation(arr):\n",
    "    output = []\n",
    "    for i in arr:\n",
    "        output.append((i-5)*2)\n",
    "    return output\n",
    "number_manipulation(input_list)"
   ]
  },
  {
   "cell_type": "code",
   "execution_count": null,
   "metadata": {},
   "outputs": [],
   "source": [
    "def minus_five(arr):\n",
    "    return [x-5 for x in arr]\n",
    "\n",
    "def minus_five_times_two(arr):\n",
    "    return [x*2 for x in minus_five(arr)]\n",
    "\n",
    "minus_five_times_two(input_list)"
   ]
  },
  {
   "cell_type": "markdown",
   "metadata": {},
   "source": [
    "### Exercise 3\n",
    "Create a function that takes in a list of strings and filters out the strings that DO NOT contain vowels. "
   ]
  },
  {
   "cell_type": "code",
   "execution_count": null,
   "metadata": {},
   "outputs": [],
   "source": [
    "string_list = ['Sheldon','Pnny','Leonard','Hwrd','Rj','Amy','Strt']\n",
    "# output = ['Sheldon','Leonard','Amy']\n",
    "\n",
    "\n",
    "def no_vowels(arr):\n",
    "    for names in arr:\n",
    "        if 'a' in names.lower() or 'e' in names or 'i' in names or 'o' in names or 'u' in names:\n",
    "            return True\n",
    "def proper_names(arr):\n",
    "    return [proper for proper in arr if no_vowels(proper) == True]\n",
    "      \n",
    "proper_names(string_list)\n",
    "        "
   ]
  },
  {
   "cell_type": "code",
   "execution_count": 5,
   "metadata": {},
   "outputs": [
    {
     "data": {
      "text/plain": [
       "['Penny', 'Raj', 'Amy']"
      ]
     },
     "execution_count": 5,
     "metadata": {},
     "output_type": "execute_result"
    }
   ],
   "source": [
    "#Create a function that takes in a list of strings and fileters out the strings that have less than 6 characters\n",
    "\n",
    "string_list = ['Sheldon','Penny','Leonard','Howard','Raj','Amy','Stuart']\n",
    "# output = ['Sheldon', 'Leonard','Howard','Stuart']\n",
    "\n",
    "def name_length(arr):\n",
    "    return [name for name in arr if len(name)<6]\n",
    "            \n",
    "name_length(string_list)\n",
    "            "
   ]
  },
  {
   "cell_type": "markdown",
   "metadata": {},
   "source": [
    "### Exercise 4\n",
    "Create a function that accepts a list as a parameter and returns a dictionary containing the list items as it's keys, and the number of times they appear in the list as the values"
   ]
  },
  {
   "cell_type": "code",
   "execution_count": 13,
   "metadata": {},
   "outputs": [
    {
     "data": {
      "text/plain": [
       "{'Harry': 3, 'Hermione': 2, 'Ron': 4, 'Dobby': 1, 'Draco': 1, 'Luna': 1}"
      ]
     },
     "execution_count": 13,
     "metadata": {},
     "output_type": "execute_result"
    }
   ],
   "source": [
    "example_list = [\"Harry\", 'Hermione','Harry','Ron','Dobby','Draco','Luna','Harry','Hermione','Ron','Ron','Ron']\n",
    "\n",
    "# output = {\n",
    "#     \"Harry\":3,\n",
    "#     \"Hermione\":2,\n",
    "#     \"Ron\":4,\n",
    "#     \"Dobby\":1,\n",
    "#     \"Draco\":1,\n",
    "#     \"Luna\": 1\n",
    "# }\n",
    "\n",
    "def potterHeads(arr):\n",
    "    points = {}\n",
    "    for name in arr:\n",
    "        if name not in points:\n",
    "            points[name] = 1\n",
    "            continue\n",
    "        else:\n",
    "            points[name] += 1\n",
    "            \n",
    "    return points\n",
    "potterHeads(example_list)\n",
    "        "
   ]
  },
  {
   "cell_type": "markdown",
   "metadata": {},
   "source": [
    "\n",
    "\n",
    "## Scope <br>\n",
    "<p>Scope refers to the ability to access variables, different types of scope include:<br>a) Global<br>b) Function (local)<br>c) Class (local)</p>"
   ]
  },
  {
   "cell_type": "code",
   "execution_count": null,
   "metadata": {},
   "outputs": [],
   "source": [
    "# placement of variable declaration matters\n",
    "\n",
    "number = 3 # Gloal Variable\n",
    "\n",
    "def myFunc():\n",
    "    num_3 = 6 # Local Function Variable\n",
    "    return num_3\n",
    "\n",
    "print(number)\n",
    "return_num = myFunc()\n",
    "print(return_num)"
   ]
  },
  {
   "cell_type": "markdown",
   "metadata": {},
   "source": [
    "# Homework Exercises"
   ]
  },
  {
   "cell_type": "markdown",
   "metadata": {},
   "source": [
    "## Exercise 1 <br>\n",
    "<p>Given a list as a parameter,write a function that returns a list of numbers that are less than ten</b></i></p><br>\n",
    "<p> For example: Say your input parameter to the function is [1,11,14,5,8,9]...Your output should [1,5,8,9]</p>"
   ]
  },
  {
   "cell_type": "code",
   "execution_count": null,
   "metadata": {},
   "outputs": [],
   "source": [
    "# Use the following list - [1,11,14,5,8,9]\n",
    "l_1 = [1,11,14,5,8,9]\n",
    "\n",
    "def less_than_ten(arr):\n",
    "    return [x for x in arr if x < 10]\n",
    "less_than_ten(l_1)"
   ]
  },
  {
   "cell_type": "markdown",
   "metadata": {},
   "source": [
    "## Exercise 2 <br>\n",
    "<p>Write a function that takes in two lists and returns the two lists merged together and sorted<br>\n",
    "<b><i>Hint: You can use the .sort() method</i></b></p>"
   ]
  },
  {
   "cell_type": "code",
   "execution_count": null,
   "metadata": {},
   "outputs": [],
   "source": [
    "list_1 = [1,2,3,4,5,6]\n",
    "list_2 = [3,4,5,6,7,8,10]\n",
    "\n",
    "def merge_em(list_1, list_2):\n",
    "    new_list = list_1 + list_2\n",
    "    new_list.sort()\n",
    "    return(new_list)\n",
    "merge_em(list_1, list_2)"
   ]
  },
  {
   "cell_type": "markdown",
   "metadata": {},
   "source": [
    "Exercise 3:\n",
    "Create a function that returns the sum of the two lowest positive numbers given an array of minimum 4 \n",
    "positive integers. No floats or non-positive integers will be passed."
   ]
  },
  {
   "cell_type": "code",
   "execution_count": null,
   "metadata": {},
   "outputs": [],
   "source": [
    "example = [19, 5, 42, 2, 77]\n",
    "#output = 7\n",
    "\n",
    "def minumum(arr):\n",
    "    arr.sort()\n",
    "    return arr[0] + arr[1]\n",
    "minumum(example)\n",
    "        "
   ]
  },
  {
   "cell_type": "markdown",
   "metadata": {},
   "source": [
    "Exercise 4:\n",
    "Given an array of integers. Return an array, where the first element is the count of positives numbers \n",
    "and the second element is sum of negative numbers. 0 is neither positive nor negative.\n",
    "If the input array is empty or null, return an empty array."
   ]
  },
  {
   "cell_type": "code",
   "execution_count": 21,
   "metadata": {},
   "outputs": [
    {
     "data": {
      "text/plain": [
       "[10, -65]"
      ]
     },
     "execution_count": 21,
     "metadata": {},
     "output_type": "execute_result"
    }
   ],
   "source": [
    "example_input = [1, 2, 3, 4, 5, 6, 7, 8, 9, 10, -11, -12, -13, -14, -15]\n",
    "# output  = [10,-65]\n",
    "\n",
    "def complicated(arr):\n",
    "    if len(arr) == 0:\n",
    "        return []\n",
    "    pos_nums = sum([1 for i in arr if i >0])\n",
    "    neg_nums = sum([i for i in arr if i<0])\n",
    "    return [pos_nums, neg_nums]\n",
    "\n",
    "complicated(example_input)"
   ]
  }
 ],
 "metadata": {
  "kernelspec": {
   "display_name": "Python 3.10.5 64-bit",
   "language": "python",
   "name": "python3"
  },
  "language_info": {
   "codemirror_mode": {
    "name": "ipython",
    "version": 3
   },
   "file_extension": ".py",
   "mimetype": "text/x-python",
   "name": "python",
   "nbconvert_exporter": "python",
   "pygments_lexer": "ipython3",
   "version": "3.10.5"
  },
  "vscode": {
   "interpreter": {
    "hash": "aee8b7b246df8f9039afb4144a1f6fd8d2ca17a180786b69acc140d282b71a49"
   }
  }
 },
 "nbformat": 4,
 "nbformat_minor": 2
}
